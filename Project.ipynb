{
 "cells": [
  {
   "cell_type": "markdown",
   "metadata": {},
   "source": [
    "#### Loading the Data and Cleaning"
   ]
  },
  {
   "cell_type": "code",
   "execution_count": 1,
   "metadata": {},
   "outputs": [],
   "source": [
    "import pandas as pd\n",
    "import numpy as np\n",
    "from sklearn.feature_extraction.text import *\n",
    "from sklearn.model_selection import train_test_split\n"
   ]
  },
  {
   "cell_type": "code",
   "execution_count": 2,
   "metadata": {},
   "outputs": [
    {
     "name": "stdout",
     "output_type": "stream",
     "text": [
      "        toxic  severe_toxic  obscene  threat  insult  identity_hate\n",
      "0           0             0        0       0       0              0\n",
      "1           0             0        0       0       0              0\n",
      "2           0             0        0       0       0              0\n",
      "3           0             0        0       0       0              0\n",
      "4           0             0        0       0       0              0\n",
      "...       ...           ...      ...     ...     ...            ...\n",
      "159566      0             0        0       0       0              0\n",
      "159567      0             0        0       0       0              0\n",
      "159568      0             0        0       0       0              0\n",
      "159569      0             0        0       0       0              0\n",
      "159570      0             0        0       0       0              0\n",
      "\n",
      "[159571 rows x 6 columns]\n"
     ]
    }
   ],
   "source": [
    "train = pd.read_csv('train/train.csv')\n",
    "x = train['comment_text']\n",
    "# x has to be cleaned up, there's stuff like urls and ip addresses\n",
    "#...cleanup\n",
    "\n",
    "#As seen below, y pulls the columns containing the labels for each text comment in the dataset\n",
    "y = train.loc[:, 'toxic':'identity_hate']  \n",
    "print(y)"
   ]
  },
  {
   "cell_type": "code",
   "execution_count": 6,
   "metadata": {},
   "outputs": [
    {
     "name": "stdout",
     "output_type": "stream",
     "text": [
      "(119678,)\n"
     ]
    }
   ],
   "source": [
    "X_train, X_test, Y_train, Y_test = train_test_split(x,y, random_state=26)\n"
   ]
  },
  {
   "cell_type": "code",
   "execution_count": 7,
   "metadata": {},
   "outputs": [],
   "source": [
    "# create Bag of Words array (might use a Tf-idf vectorizer instead of counts later\n",
    "#        as importance of words seems relevant for this problem\n",
    "vectorizer = CountVectorizer(stop_words='english', min_df=0.01, ngram_range=(1,1))\n",
    "X = vectorizer.fit_transform(X_train)"
   ]
  },
  {
   "cell_type": "code",
   "execution_count": null,
   "metadata": {},
   "outputs": [],
   "source": [
    "# Current plan for simple classifier is to run a logistic regression classifier on each label\n",
    "# If this is too difficult right now then we'll try it just on the most common labels\n",
    "#using this link for help: https://www.kaggle.com/code/adamschroeder/countvectorizer-tfidfvectorizer-predict-comments#TfidfVectorizer----Brief-Tutorial\n",
    "\n",
    "\n",
    "classes = ['toxic','severe_toxic','obscene', 'threat', 'insult', 'identity_hate']\n",
    "\n",
    "for label in classes:\n",
    "    #run logistic regression for each class"
   ]
  }
 ],
 "metadata": {
  "kernelspec": {
   "display_name": "Python 3",
   "language": "python",
   "name": "python3"
  },
  "language_info": {
   "codemirror_mode": {
    "name": "ipython",
    "version": 3
   },
   "file_extension": ".py",
   "mimetype": "text/x-python",
   "name": "python",
   "nbconvert_exporter": "python",
   "pygments_lexer": "ipython3",
   "version": "3.8.5"
  }
 },
 "nbformat": 4,
 "nbformat_minor": 4
}
